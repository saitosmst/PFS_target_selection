{
 "cells": [
  {
   "cell_type": "code",
   "execution_count": 1,
   "metadata": {
    "execution": {
     "iopub.execute_input": "2020-09-23T15:45:57.181707Z",
     "iopub.status.busy": "2020-09-23T15:45:57.181429Z",
     "iopub.status.idle": "2020-09-23T15:45:57.607199Z",
     "shell.execute_reply": "2020-09-23T15:45:57.606531Z",
     "shell.execute_reply.started": "2020-09-23T15:45:57.181678Z"
    }
   },
   "outputs": [
    {
     "data": {
      "text/html": [
       "<style>.container { width:100% !important; }</style>"
      ],
      "text/plain": [
       "<IPython.core.display.HTML object>"
      ]
     },
     "metadata": {},
     "output_type": "display_data"
    }
   ],
   "source": [
    "import numpy as np\n",
    "\n",
    "from astropy.io import fits\n",
    "from astropy import units as u\n",
    "\n",
    "%config InlineBackend.figure_format = 'retina'\n",
    "from IPython.core.display import display, HTML \n",
    "display(HTML(\"<style>.container { width:100% !important; }</style>\"))"
   ]
  },
  {
   "cell_type": "code",
   "execution_count": 7,
   "metadata": {
    "execution": {
     "iopub.execute_input": "2020-09-23T15:49:15.783290Z",
     "iopub.status.busy": "2020-09-23T15:49:15.783034Z",
     "iopub.status.idle": "2020-09-23T15:49:18.714302Z",
     "shell.execute_reply": "2020-09-23T15:49:18.713636Z",
     "shell.execute_reply.started": "2020-09-23T15:49:15.783262Z"
    }
   },
   "outputs": [],
   "source": [
    "## Plot\n",
    "import matplotlib.pyplot as plt\n",
    "from matplotlib import ticker, patches\n",
    "from matplotlib.ticker import MultipleLocator, FormatStrFormatter, LogFormatter\n",
    "from matplotlib.colors import LogNorm\n",
    "from matplotlib.collections import LineCollection\n",
    "\n",
    "from ss_default_plot import *\n",
    "from matplotlib import cm, ticker, patches\n",
    "from matplotlib.ticker import MultipleLocator, FormatStrFormatter\n",
    "from matplotlib.colors import LogNorm\n",
    "from matplotlib.patches import Ellipse\n",
    "\n",
    "fig_width_pt = 1024                    # Suited for LaTeX\n",
    "inches_per_pt = 1.0/72.27              # Convert pt to inch\n",
    "golden_mean = (math.sqrt(5)-1.0)/2.0   # Aesthetic ratio\n",
    "#golden_mean = 1.\n",
    "fig_width = fig_width_pt*inches_per_pt # width in inches\n",
    "fig_height = fig_width*golden_mean     # height in inches\n",
    "fig_size =  [fig_width,fig_height]\n",
    "params = {'backend': 'ps',\n",
    "          'axes.linewidth' : 2,\n",
    "          'legend.fontsize': 14,\n",
    "          'text.usetex'    : False,\n",
    "          'figure.figsize' : fig_size}\n",
    "dotseq = [2, 2]\n",
    "dashdotseq = [7, 4, 3, 4]\n",
    "plt.rcParams.update(params)"
   ]
  },
  {
   "cell_type": "code",
   "execution_count": 2,
   "metadata": {
    "execution": {
     "iopub.execute_input": "2020-09-23T15:45:58.867133Z",
     "iopub.status.busy": "2020-09-23T15:45:58.866873Z",
     "iopub.status.idle": "2020-09-23T15:45:59.161734Z",
     "shell.execute_reply": "2020-09-23T15:45:59.161009Z",
     "shell.execute_reply.started": "2020-09-23T15:45:58.867106Z"
    }
   },
   "outputs": [],
   "source": [
    "import summary_stat"
   ]
  },
  {
   "cell_type": "code",
   "execution_count": 3,
   "metadata": {
    "execution": {
     "iopub.execute_input": "2020-09-23T15:46:00.469455Z",
     "iopub.status.busy": "2020-09-23T15:46:00.469191Z",
     "iopub.status.idle": "2020-09-23T15:46:00.880348Z",
     "shell.execute_reply": "2020-09-23T15:46:00.879747Z",
     "shell.execute_reply.started": "2020-09-23T15:46:00.469427Z"
    }
   },
   "outputs": [
    {
     "name": "stdout",
     "output_type": "stream",
     "text": [
      "***** Target selection statistics summary *****\n",
      "\n",
      "Your threthold: SNR_PFS_OII > 6\n",
      "\n",
      "(1) # of fibers for which a galaxy is assigned: 4410\n",
      "# of fibers which miss a galaxy assignment: 378\n",
      "efficiency = (1)/(# of total fibers, 4788): 92.11%\n",
      "\n",
      "(2) # of target galaxies per FoV: 8530\n",
      "completeness = (1)/(2): 51.70%\n",
      "\n",
      "(3) # of detectable PFS ELGs per two visits per FoV: 3052\n",
      "success rate = (3)/(1) = 69.21%\n",
      "\n",
      "***********************************************\n",
      "\n",
      "dn/dz: \n",
      "#0, 0.6 <= z < 0.8, Vs[(Gpc/h)^3] = 0.550, Ng/FoV = 95, ng[10^-4(h/Mpc)^3] = 2.304\n",
      "#1, 0.8 <= z < 1.0, Vs[(Gpc/h)^3] = 0.723, Ng/FoV = 390, ng[10^-4(h/Mpc)^3] = 7.192\n",
      "#2, 1.0 <= z < 1.2, Vs[(Gpc/h)^3] = 0.864, Ng/FoV = 387, ng[10^-4(h/Mpc)^3] = 5.972\n",
      "#3, 1.2 <= z < 1.4, Vs[(Gpc/h)^3] = 0.973, Ng/FoV = 730, ng[10^-4(h/Mpc)^3] = 10.008\n",
      "#4, 1.4 <= z < 1.6, Vs[(Gpc/h)^3] = 1.052, Ng/FoV = 489, ng[10^-4(h/Mpc)^3] = 6.195\n",
      "#5, 1.6 <= z < 2.0, Vs[(Gpc/h)^3] = 2.254, Ng/FoV = 711, ng[10^-4(h/Mpc)^3] = 4.206\n",
      "#6, 2.0 <= z < 2.4, Vs[(Gpc/h)^3] = 2.345, Ng/FoV = 247, ng[10^-4(h/Mpc)^3] = 1.404\n"
     ]
    }
   ],
   "source": [
    "# read the EL-COSMOS catalog\n",
    "cmc = fits.open('/Volumes/ThunderBay4-40TB/CosmoTreasure/mock/cosmos/cmc_lam/combinedcatalog_flux_SNR-cos_full_phy_fz-a0.20_OI15config_added-Re.fits')[1].data\n",
    "    \n",
    "# specify a selection in (g, g-r, r-i): here is modified version of Takada+(2014) (see the previous SSP document)\n",
    "select_g  = (cmc['g_hsc'] > 23.2) & (cmc['g_hsc'] < 24.2)\n",
    "select_gr = ((cmc['g_hsc']-cmc['r_hsc'] > 0.05) \n",
    "                 & (cmc['g_hsc']-cmc['r_hsc'] < 0.35))\n",
    "select_ri = ((cmc['g_hsc'] > 23.6) \n",
    "                 & (cmc['r_hsc']-cmc['i_hsc'] > 0.3))\n",
    "select_g_gr = select_g & select_gr\n",
    "cut_target  = select_g_gr & ~select_ri\n",
    "    \n",
    "numELGs, pfs_mT14_sn6, fac_eff = summary_stat.calc_target_stats(cmc, cut_target, snr_threshold=6, verbose=1)\n",
    "\n",
    "zbins_T14 = np.array([0.6, 0.8, 1.0, 1.2, 1.4, 1.6, 2.0, 2.4])\n",
    "dndz_mT14 = summary_stat.calc_dndz(pfs_mT14_sn6, fac_eff, zbins_T14, verbose=1)"
   ]
  },
  {
   "cell_type": "code",
   "execution_count": 19,
   "metadata": {
    "execution": {
     "iopub.execute_input": "2020-09-23T16:00:10.274238Z",
     "iopub.status.busy": "2020-09-23T16:00:10.273982Z",
     "iopub.status.idle": "2020-09-23T16:00:10.540750Z",
     "shell.execute_reply": "2020-09-23T16:00:10.540119Z",
     "shell.execute_reply.started": "2020-09-23T16:00:10.274210Z"
    }
   },
   "outputs": [
    {
     "name": "stdout",
     "output_type": "stream",
     "text": [
      "***** Target selection statistics summary *****\n",
      "\n",
      "Your threthold: flux_OII > 1e-16\n",
      "\n",
      "(1) # of fibers for which a galaxy is assigned: 4272\n",
      "# of fibers which miss a galaxy assignment: 516\n",
      "efficiency = (1)/(# of total fibers, 4788): 89.24%\n",
      "\n",
      "(2) # of target galaxies per FoV: 7616\n",
      "completeness = (1)/(2): 56.09%\n",
      "\n",
      "(3) # of detectable PFS ELGs per two visits per FoV: 3400\n",
      "success rate = (3)/(1) = 79.59%\n",
      "\n",
      "***********************************************\n",
      "\n",
      "dn/dz: \n",
      "#0, 0.0 <= z < 0.1, Vs[(Gpc/h)^3] = 0.005, Ng/FoV = 121, ng[10^-4(h/Mpc)^3] = 358.127\n",
      "#1, 0.1 <= z < 0.2, Vs[(Gpc/h)^3] = 0.029, Ng/FoV = 124, ng[10^-4(h/Mpc)^3] = 57.488\n",
      "#2, 0.2 <= z < 0.3, Vs[(Gpc/h)^3] = 0.070, Ng/FoV = 80, ng[10^-4(h/Mpc)^3] = 15.229\n",
      "#3, 0.3 <= z < 0.4, Vs[(Gpc/h)^3] = 0.122, Ng/FoV = 47, ng[10^-4(h/Mpc)^3] = 5.156\n",
      "#4, 0.4 <= z < 0.5, Vs[(Gpc/h)^3] = 0.178, Ng/FoV = 1, ng[10^-4(h/Mpc)^3] = 0.075\n",
      "#5, 0.5 <= z < 0.6, Vs[(Gpc/h)^3] = 0.235, Ng/FoV = 155, ng[10^-4(h/Mpc)^3] = 8.794\n",
      "#6, 0.6 <= z < 0.7, Vs[(Gpc/h)^3] = 0.290, Ng/FoV = 637, ng[10^-4(h/Mpc)^3] = 29.261\n",
      "#7, 0.7 <= z < 0.9, Vs[(Gpc/h)^3] = 0.342, Ng/FoV = 471, ng[10^-4(h/Mpc)^3] = 18.368\n",
      "#8, 0.9 <= z < 1.0, Vs[(Gpc/h)^3] = 0.389, Ng/FoV = 473, ng[10^-4(h/Mpc)^3] = 16.216\n",
      "#9, 1.0 <= z < 1.1, Vs[(Gpc/h)^3] = 0.431, Ng/FoV = 291, ng[10^-4(h/Mpc)^3] = 9.004\n",
      "#10, 1.1 <= z < 1.2, Vs[(Gpc/h)^3] = 0.468, Ng/FoV = 283, ng[10^-4(h/Mpc)^3] = 8.065\n",
      "#11, 1.2 <= z < 1.3, Vs[(Gpc/h)^3] = 0.500, Ng/FoV = 297, ng[10^-4(h/Mpc)^3] = 7.922\n",
      "#12, 1.3 <= z < 1.4, Vs[(Gpc/h)^3] = 0.527, Ng/FoV = 146, ng[10^-4(h/Mpc)^3] = 3.692\n",
      "#13, 1.4 <= z < 1.5, Vs[(Gpc/h)^3] = 0.550, Ng/FoV = 214, ng[10^-4(h/Mpc)^3] = 5.184\n",
      "#14, 1.5 <= z < 1.6, Vs[(Gpc/h)^3] = 0.570, Ng/FoV = 53, ng[10^-4(h/Mpc)^3] = 1.240\n"
     ]
    }
   ],
   "source": [
    "# can try a different criteria\n",
    "\n",
    "# For example, DESI FDR\n",
    "snr_threshold = 10E-17 #[erg/s/cm2]\n",
    "snr_label = 'flux_OII'\n",
    "zlow  = 0.\n",
    "zhigh = 1.6\n",
    "\n",
    "select_r  = cmc['r_hsc'] < 23.4\n",
    "select_A  = cmc['r_hsc'] - cmc['z_hsc'] > 0.3\n",
    "select_rz  = cmc['r_hsc'] - cmc['z_hsc'] < 1.6\n",
    "select_B  = cmc['g_hsc'] - cmc['r_hsc'] < 1.5*(cmc['r_hsc'] - cmc['z_hsc']) - 0.15\n",
    "select_C  = cmc['g_hsc'] - cmc['r_hsc'] < 1.6 - 1.2*(cmc['r_hsc'] - cmc['z_hsc'])\n",
    "\n",
    "select_FDRlike = select_r & select_A\n",
    "select_FDRlike &= select_rz\n",
    "select_FDRlike &= select_B\n",
    "select_FDRlike &= select_C\n",
    "\n",
    "dum_numELGs, dum_cat, fac_eff = summary_stat.calc_target_stats(cmc, select_FDRlike, snr_threshold, snr_label, zlow, zhigh, verbose=1)\n",
    "\n",
    "zbins = np.linspace(0., 1.6, 16)\n",
    "dndz_dum = summary_stat.calc_dndz(dum_cat, fac_eff, zbins, verbose=1)"
   ]
  },
  {
   "cell_type": "code",
   "execution_count": 20,
   "metadata": {
    "execution": {
     "iopub.execute_input": "2020-09-23T16:00:12.945691Z",
     "iopub.status.busy": "2020-09-23T16:00:12.945432Z",
     "iopub.status.idle": "2020-09-23T16:00:13.377572Z",
     "shell.execute_reply": "2020-09-23T16:00:13.376951Z",
     "shell.execute_reply.started": "2020-09-23T16:00:12.945663Z"
    }
   },
   "outputs": [
    {
     "data": {
      "image/png": "[encoded data removed]",
      "text/plain": [
       "<Figure size 432x288 with 2 Axes>"
      ]
     },
     "metadata": {
      "image/png": {
       "height": 309,
       "width": 480
      },
      "needs_background": "light"
     },
     "output_type": "display_data"
    }
   ],
   "source": [
    "fig = plt.figure(1)\n",
    "plt.clf()\n",
    "## Range\n",
    "plt.subplots_adjust(left=0.075,bottom=0.13,top=0.98,right=0.98)\n",
    "ax = plt.axes([0.18,0.2,0.76,0.71])\n",
    "ax = fig.add_subplot(111) \n",
    "## Log or Linear\n",
    "#ax.set_xscale('log')\n",
    "#ax.xaxis.set_major_formatter(formatter)   \n",
    "#ax.set_yscale('log')\n",
    "#ax.yaxis.set_major_formatter(formatter)   \n",
    "## Axis \n",
    "ax.set_xlim(0,1.6)\n",
    "ax.xaxis.set_major_locator(MultipleLocator(0.5))\n",
    "ax.xaxis.set_minor_locator(MultipleLocator(0.1))\n",
    "#ax.set_ylim(2E-5,100)\n",
    "#ax.yaxis.set_ticks([200.,400.,1000.,2000.])\n",
    "#ax.yaxis.set_major_locator(MultipleLocator(500.))\n",
    "#ax.yaxis.set_minor_locator(MultipleLocator(100.))\n",
    "ax.tick_params(which='minor', direction='in', length=4, width=1.5)\n",
    "ax.tick_params(which='major', direction='in', length=8, width=2, pad=5)\n",
    "for tick in ax.xaxis.get_major_ticks():\n",
    "    tick.label1.set_fontsize(20)\n",
    "    tick.tick2line.set_visible = True\n",
    "for tick in ax.xaxis.get_minor_ticks():\n",
    "    tick.tick2line.set_visible = True\n",
    "for tick in ax.yaxis.get_major_ticks():\n",
    "    tick.label1.set_fontsize(20)\n",
    "    tick.tick2line.set_visible = True\n",
    "for tick in ax.yaxis.get_minor_ticks():\n",
    "    tick.tick2line.set_visible = True\n",
    "## Axis label\n",
    "ax.set_xlabel(r'redshift', fontsize=22)\n",
    "ax.set_ylabel(r'normalized frequency', fontsize=22)\n",
    "\n",
    "#ax.set_title(r'zCOSMOS', fontsize=17)\n",
    "#ax.text(1.2, 0.16, '33/87=37.9%', fontsize=15)\n",
    "\n",
    "dz=0.1\n",
    "ax.hist(dum_cat['z_photo'], zbins, weights=dz*np.ones(shape=(dum_cat.shape[0])), density=True)\n",
    "\n",
    "#axleg = ax.legend(loc='upper left', numpoints=1, \n",
    "#                  ncol=1, fontsize=18, borderaxespad=0.2)\n",
    "#axleg.draw_frame(False)\n",
    "\n",
    "#plt.savefig(HOMEDIR+'Desktop/PFS_spectrum.pdf')\n",
    "plt.show()"
   ]
  },
  {
   "cell_type": "code",
   "execution_count": null,
   "metadata": {},
   "outputs": [],
   "source": []
  }
 ],
 "metadata": {
  "kernelspec": {
   "display_name": "Python 3",
   "language": "python",
   "name": "python3"
  },
  "language_info": {
   "codemirror_mode": {
    "name": "ipython",
    "version": 3
   },
   "file_extension": ".py",
   "mimetype": "text/x-python",
   "name": "python",
   "nbconvert_exporter": "python",
   "pygments_lexer": "ipython3",
   "version": "3.7.7"
  }
 },
 "nbformat": 4,
 "nbformat_minor": 4
}
