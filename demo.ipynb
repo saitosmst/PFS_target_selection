{
 "cells": [
  {
   "cell_type": "code",
   "execution_count": 1,
   "metadata": {
    "execution": {
     "iopub.execute_input": "2020-09-23T15:18:27.863497Z",
     "iopub.status.busy": "2020-09-23T15:18:27.863201Z",
     "iopub.status.idle": "2020-09-23T15:18:28.243930Z",
     "shell.execute_reply": "2020-09-23T15:18:28.242862Z",
     "shell.execute_reply.started": "2020-09-23T15:18:27.863468Z"
    }
   },
   "outputs": [
    {
     "data": {
      "text/html": [
       "<style>.container { width:100% !important; }</style>"
      ],
      "text/plain": [
       "<IPython.core.display.HTML object>"
      ]
     },
     "metadata": {},
     "output_type": "display_data"
    }
   ],
   "source": [
    "import numpy as np\n",
    "\n",
    "from astropy.io import fits\n",
    "from astropy import units as u\n",
    "\n",
    "%config InlineBackend.figure_format = 'retina'\n",
    "from IPython.core.display import display, HTML \n",
    "display(HTML(\"<style>.container { width:100% !important; }</style>\"))"
   ]
  },
  {
   "cell_type": "code",
   "execution_count": 2,
   "metadata": {
    "execution": {
     "iopub.execute_input": "2020-09-23T15:18:29.604456Z",
     "iopub.status.busy": "2020-09-23T15:18:29.604200Z",
     "iopub.status.idle": "2020-09-23T15:18:29.872776Z",
     "shell.execute_reply": "2020-09-23T15:18:29.872077Z",
     "shell.execute_reply.started": "2020-09-23T15:18:29.604427Z"
    }
   },
   "outputs": [],
   "source": [
    "import summary_stat"
   ]
  },
  {
   "cell_type": "code",
   "execution_count": 3,
   "metadata": {
    "execution": {
     "iopub.execute_input": "2020-09-23T15:18:31.269760Z",
     "iopub.status.busy": "2020-09-23T15:18:31.269487Z",
     "iopub.status.idle": "2020-09-23T15:18:31.781229Z",
     "shell.execute_reply": "2020-09-23T15:18:31.780490Z",
     "shell.execute_reply.started": "2020-09-23T15:18:31.269730Z"
    }
   },
   "outputs": [
    {
     "name": "stdout",
     "output_type": "stream",
     "text": [
      "***** Target selection statistics summary *****\n",
      "\n",
      "Your threthold: SNR_PFS_OII > 6\n",
      "\n",
      "(1) # of fibers for which a galaxy is assigned: 4410\n",
      "# of fibers which miss a galaxy assignment: 378\n",
      "efficiency = (1)/(# of total fibers, 4788): 92.11%\n",
      "\n",
      "(2) # of target galaxies per FoV: 8530\n",
      "completeness = (1)/(2): 51.70%\n",
      "\n",
      "(3) # of detectable PFS ELGs per two visits per FoV: 3052\n",
      "success rate = (3)/(1) = 69.21%\n",
      "\n",
      "***********************************************\n",
      "\n",
      "dn/dz: \n",
      "#0, 0.6 <= z < 0.8, Vs[(Gpc/h)^3] = 0.550, Ng/FoV = 95, ng[10^-4(h/Mpc)^3] = 2.304\n",
      "#1, 0.8 <= z < 1.0, Vs[(Gpc/h)^3] = 0.723, Ng/FoV = 390, ng[10^-4(h/Mpc)^3] = 7.192\n",
      "#2, 1.0 <= z < 1.2, Vs[(Gpc/h)^3] = 0.864, Ng/FoV = 387, ng[10^-4(h/Mpc)^3] = 5.972\n",
      "#3, 1.2 <= z < 1.4, Vs[(Gpc/h)^3] = 0.973, Ng/FoV = 731, ng[10^-4(h/Mpc)^3] = 10.022\n",
      "#4, 1.4 <= z < 1.6, Vs[(Gpc/h)^3] = 1.052, Ng/FoV = 489, ng[10^-4(h/Mpc)^3] = 6.195\n",
      "#5, 1.6 <= z < 2.0, Vs[(Gpc/h)^3] = 2.254, Ng/FoV = 711, ng[10^-4(h/Mpc)^3] = 4.206\n",
      "#6, 2.0 <= z < 2.4, Vs[(Gpc/h)^3] = 2.345, Ng/FoV = 247, ng[10^-4(h/Mpc)^3] = 1.404\n"
     ]
    }
   ],
   "source": [
    "# read the EL-COSMOS catalog\n",
    "cmc = fits.open('/Volumes/ThunderBay4-40TB/CosmoTreasure/mock/cosmos/cmc_lam/combinedcatalog_flux_SNR-cos_full_phy_fz-a0.20_OI15config_added-Re.fits')[1].data\n",
    "    \n",
    "# specify a selection in (g, g-r, r-i): here is modified version of Takada+(2014) (see the previous SSP document)\n",
    "select_g  = (cmc['g_hsc'] > 23.2) & (cmc['g_hsc'] < 24.2)\n",
    "select_gr = ((cmc['g_hsc']-cmc['r_hsc'] > 0.05) \n",
    "                 & (cmc['g_hsc']-cmc['r_hsc'] < 0.35))\n",
    "select_ri = ((cmc['g_hsc'] > 23.6) \n",
    "                 & (cmc['r_hsc']-cmc['i_hsc'] > 0.3))\n",
    "select_g_gr = select_g & select_gr\n",
    "cut_target  = select_g_gr & ~select_ri\n",
    "    \n",
    "numELGs, pfs_mT14_sn6, fac_eff = summary_stat.calc_target_stats(cmc, cut_target, snr_threshold=6, verbose=1)\n",
    "dndz_mT14 = summary_stat.calc_dndz(pfs_mT14_sn6, fac_eff, verbose=1)"
   ]
  },
  {
   "cell_type": "code",
   "execution_count": 7,
   "metadata": {
    "execution": {
     "iopub.execute_input": "2020-09-23T15:19:19.470400Z",
     "iopub.status.busy": "2020-09-23T15:19:19.470144Z",
     "iopub.status.idle": "2020-09-23T15:19:19.637197Z",
     "shell.execute_reply": "2020-09-23T15:19:19.636417Z",
     "shell.execute_reply.started": "2020-09-23T15:19:19.470372Z"
    }
   },
   "outputs": [
    {
     "name": "stdout",
     "output_type": "stream",
     "text": [
      "***** Target selection statistics summary *****\n",
      "\n",
      "Your threthold: flux_OII > 8e-17\n",
      "\n",
      "(1) # of fibers for which a galaxy is assigned: 4272\n",
      "# of fibers which miss a galaxy assignment: 516\n",
      "efficiency = (1)/(# of total fibers, 4788): 89.24%\n",
      "\n",
      "(2) # of target galaxies per FoV: 7616\n",
      "completeness = (1)/(2): 56.09%\n",
      "\n",
      "(3) # of detectable PFS ELGs per two visits per FoV: 3248\n",
      "success rate = (3)/(1) = 76.03%\n",
      "\n",
      "***********************************************\n",
      "\n",
      "dn/dz: \n",
      "#0, 0.6 <= z < 0.8, Vs[(Gpc/h)^3] = 0.550, Ng/FoV = 1183, ng[10^-4(h/Mpc)^3] = 28.690\n",
      "#1, 0.8 <= z < 1.0, Vs[(Gpc/h)^3] = 0.723, Ng/FoV = 896, ng[10^-4(h/Mpc)^3] = 16.524\n",
      "#2, 1.0 <= z < 1.2, Vs[(Gpc/h)^3] = 0.864, Ng/FoV = 514, ng[10^-4(h/Mpc)^3] = 7.932\n",
      "#3, 1.2 <= z < 1.4, Vs[(Gpc/h)^3] = 0.973, Ng/FoV = 405, ng[10^-4(h/Mpc)^3] = 5.552\n",
      "#4, 1.4 <= z < 1.6, Vs[(Gpc/h)^3] = 1.052, Ng/FoV = 248, ng[10^-4(h/Mpc)^3] = 3.142\n",
      "#5, 1.6 <= z < 2.0, Vs[(Gpc/h)^3] = 2.254, Ng/FoV = 0, ng[10^-4(h/Mpc)^3] = 0.000\n",
      "#6, 2.0 <= z < 2.4, Vs[(Gpc/h)^3] = 2.345, Ng/FoV = 0, ng[10^-4(h/Mpc)^3] = 0.000\n"
     ]
    }
   ],
   "source": [
    "# can try a different criteria\n",
    "\n",
    "# For example, DESI FDR\n",
    "snr_threshold = 8E-17 #[erg/s/cm2]\n",
    "snr_label = 'flux_OII'\n",
    "zlow  = 0.6\n",
    "zhigh = 1.6\n",
    "\n",
    "select_r  = cmc['r_hsc'] < 23.4\n",
    "select_A  = cmc['r_hsc'] - cmc['z_hsc'] > 0.3\n",
    "select_rz  = cmc['r_hsc'] - cmc['z_hsc'] < 1.6\n",
    "select_B  = cmc['g_hsc'] - cmc['r_hsc'] < 1.5*(cmc['r_hsc'] - cmc['z_hsc']) - 0.15\n",
    "select_C  = cmc['g_hsc'] - cmc['r_hsc'] < 1.6 - 1.2*(cmc['r_hsc'] - cmc['z_hsc'])\n",
    "\n",
    "select_FDRlike = select_r & select_A\n",
    "select_FDRlike &= select_rz\n",
    "select_FDRlike &= select_B\n",
    "select_FDRlike &= select_C\n",
    "\n",
    "dum_numELGs, dum_cat, fac_eff = summary_stat.calc_target_stats(cmc, select_FDRlike, snr_threshold, snr_label, zlow, zhigh, verbose=1)\n",
    "dndz_dum = summary_stat.calc_dndz(dum_cat, fac_eff, verbose=1)"
   ]
  },
  {
   "cell_type": "code",
   "execution_count": null,
   "metadata": {},
   "outputs": [],
   "source": []
  }
 ],
 "metadata": {
  "kernelspec": {
   "display_name": "Python 3",
   "language": "python",
   "name": "python3"
  },
  "language_info": {
   "codemirror_mode": {
    "name": "ipython",
    "version": 3
   },
   "file_extension": ".py",
   "mimetype": "text/x-python",
   "name": "python",
   "nbconvert_exporter": "python",
   "pygments_lexer": "ipython3",
   "version": "3.7.7"
  }
 },
 "nbformat": 4,
 "nbformat_minor": 4
}
